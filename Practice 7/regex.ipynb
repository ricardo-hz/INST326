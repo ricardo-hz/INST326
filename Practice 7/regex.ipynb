{
 "cells": [
  {
   "cell_type": "markdown",
   "metadata": {},
   "source": [
    "# Regular Expression Practice\n",
    "### Ricardo Hernandez\n",
    "\n",
    "People who work at dunderpoodle.com have predictable email addresses. The username consists of the first letter of their first name plus their full last name. This is followed by an @ sign and the division of the company that they work in (sales, research, shipping, etc.), then a period and dunderpoodle.com. For example, Fred Smith from HR has the email ```fsmith@hr.dunderpoodle.com```; Roberta Jones from billing has the email ```rjones@billing.dunderpoodle.com```. Write a regular expression to match an email from dunderpoodle.com with separate capturing groups for the first initial, last name, and division."
   ]
  },
  {
   "cell_type": "code",
   "execution_count": 10,
   "metadata": {},
   "outputs": [],
   "source": [
    "import re\n",
    "#^ - Indicates the beginning of the string to search\n",
    "# ([a-z]) - Matches 1 singular letter\n",
    "# ([a-z]+) - Matches multiple letters\n",
    "# @ - Indicates the end of ([a-z]+) grouping\n",
    "# ([a-z]+) - Matches multiple letters after @ symbol\n",
    "# \\.dunderpoodle.com\\. Indicates the end of ([a-z]+) grouping\n",
    "# ([a-z]+) - Matches multiple letters after dunderpoodle.com\n",
    "# \\. Indicates an escape sequence, stops regex from checking for any char when\n",
    "#       it sees a dot\n",
    "# $ - Indicates the end of the string to search\n",
    "pattern = r\"^([a-z])([a-z]+)@([a-z]+)\\.dunderpoodle\\.com$\""
   ]
  },
  {
   "cell_type": "markdown",
   "metadata": {},
   "source": [
    "Use the ```re.search()``` function to apply your regular expression from the above question to a string that the regular expression should match. Afterwards,\n",
    "- Store the resulting match object in a variable.\n",
    "- Extract the full matched string from the object and print it.\n",
    "- Extract the value of the first capturing group from the match object and print it."
   ]
  },
  {
   "cell_type": "code",
   "execution_count": 11,
   "metadata": {},
   "outputs": [
    {
     "name": "stdout",
     "output_type": "stream",
     "text": [
      "Full matched value: rhernandez@it.dunderpoodle.com\n",
      "Value of first capturing group: r\n"
     ]
    }
   ],
   "source": [
    "text = \"rhernandez@it.dunderpoodle.com\"\n",
    "\n",
    "# Apply your regular expression to a string that the regular expression should \n",
    "# match. Store the resulting match object in a variable. \n",
    "match = re.search(pattern,text)\n",
    "\n",
    "# Extract the full matched string from the match object and print it.\n",
    "print(f\"Full matched value: {match.group(0)}\")\n",
    "\n",
    "# Extract the value of the first capturing group from the match object and \n",
    "# print it.\n",
    "print(f\"Value of first capturing group: {match.group(1)}\")\n"
   ]
  }
 ],
 "metadata": {
  "kernelspec": {
   "display_name": ".venv",
   "language": "python",
   "name": "python3"
  },
  "language_info": {
   "codemirror_mode": {
    "name": "ipython",
    "version": 3
   },
   "file_extension": ".py",
   "mimetype": "text/x-python",
   "name": "python",
   "nbconvert_exporter": "python",
   "pygments_lexer": "ipython3",
   "version": "3.12.3"
  }
 },
 "nbformat": 4,
 "nbformat_minor": 2
}
