{
 "cells": [
  {
   "cell_type": "code",
   "execution_count": null,
   "metadata": {},
   "outputs": [
    {
     "name": "stdout",
     "output_type": "stream",
     "text": [
      "r\n",
      "jones\n",
      "billing\n"
     ]
    }
   ],
   "source": [
    "import re\n",
    "#expr = r\"^(^.)(\\w*)@(\\w*)\\.dunderpoodle.com\\$\"\n",
    "#^ - Indicates the beginning of the string to search\n",
    "# ([a-z]) - Matches 1 singular letter\n",
    "# ([a-z]+) - Matches multiple letters\n",
    "# @ - Indicates the end of ([a-z]+) grouping\n",
    "# ([a-z]+) - Matches multiple letters after @ symbol\n",
    "# \\.dunderpoodle.com\\. Indicates the end of ([a-z]+) grouping\n",
    "# ([a-z]+) - Matches multiple letters after dunderpoodle.com\n",
    "# \\. Indicates an escape sequence, stops regex from checking for any char when\n",
    "#       it sees a dot\n",
    "# $ - Indicates the end of the string to search\n",
    "expr = r\"^([a-z])([a-z]+)@([a-z]+)\\.dunderpoodle\\.com$\"\n",
    "text = \"rjones@billing.dunderpoodle.com\"\n",
    "match = re.search(expr,text)\n",
    "if match:\n",
    "    print(match.group(1))\n",
    "    print(match.group(2))\n",
    "    print(match.group(3))\n",
    "else:\n",
    "    print(None)"
   ]
  }
 ],
 "metadata": {
  "kernelspec": {
   "display_name": ".venv",
   "language": "python",
   "name": "python3"
  },
  "language_info": {
   "codemirror_mode": {
    "name": "ipython",
    "version": 3
   },
   "file_extension": ".py",
   "mimetype": "text/x-python",
   "name": "python",
   "nbconvert_exporter": "python",
   "pygments_lexer": "ipython3",
   "version": "3.12.3"
  }
 },
 "nbformat": 4,
 "nbformat_minor": 2
}
