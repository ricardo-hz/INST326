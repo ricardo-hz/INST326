{
 "cells": [
  {
   "cell_type": "markdown",
   "metadata": {},
   "source": [
    "# Python Fundamentals Practice 1\n",
    "### Ricardo Hernandez\n",
    "\n",
    "Explain the following concepts in your own words and provide clear, working, original examples of each:\n",
    "\n",
    "* conditional expressions (please note: these are not the same as conditional statements)\n",
    "\n",
    "* passing keyword arguments to functions\n",
    "\n",
    "* defining functions with optional parameters"
   ]
  },
  {
   "cell_type": "markdown",
   "metadata": {},
   "source": [
    "## Conditional Expressions\n",
    "A conditional expression is a conditional statement that's been shortened to one\n",
    "line using a ternary operator\n",
    "\n",
    "Conditional expressions follow the general format: ```x if (condition) else y```\n",
    "\n",
    "Here is an example which uses a conditional expression to simplify a method that compares two values."
   ]
  },
  {
   "cell_type": "code",
   "execution_count": 9,
   "metadata": {},
   "outputs": [
    {
     "name": "stdout",
     "output_type": "stream",
     "text": [
      "5 is less than 10\n",
      "30 is greater than 20\n"
     ]
    }
   ],
   "source": [
    "def compare_numbers(val1, val2):\n",
    "    return (f\"{val1} is {'greater' if val1 > val2 else 'less'} than {val2}\")\n",
    "\n",
    "print(compare_numbers(5,10))\n",
    "print(compare_numbers(30,20))"
   ]
  },
  {
   "cell_type": "markdown",
   "metadata": {},
   "source": [
    "The 'else' statement in a conditional expression allows for multiple conditions to be checked. With the current code, the method incorrectly prints \"val1 is less than val2\" if the values are equivalent. This can be fixed by chaining together multiple conditional expressions."
   ]
  },
  {
   "cell_type": "code",
   "execution_count": 10,
   "metadata": {},
   "outputs": [
    {
     "name": "stdout",
     "output_type": "stream",
     "text": [
      "1 is less than 1\n",
      "1 is equal to 1\n"
     ]
    }
   ],
   "source": [
    "print(compare_numbers(1,1))#Incorrectly prints 1 is less than 1\n",
    "\n",
    "def compare_numbers(val1, val2):\n",
    "    return (f\"{val1} is \"\n",
    "            f\"{'greater than' if val1 > val2 else \n",
    "            f'less than' if val1 < val2 else 'equal to '}\" \n",
    "            f\"{val2}\")\n",
    "    \n",
    "print(compare_numbers(1,1))"
   ]
  },
  {
   "cell_type": "markdown",
   "metadata": {},
   "source": [
    "## Passing keyword arguments to functions\n",
    "Many methods allow or require one or more arguments to be passed, which alters how the method behaves. Normally, arguments must be passed to the method in the same order they were written to the method header, also known as positional arguments. To avoid this, keyword arguments can be defined in the method header which allow the programmer to specify which argument they're passing. In the following example, ```end=``` is a supported keyword argument for the ```print()``` method."
   ]
  },
  {
   "cell_type": "code",
   "execution_count": 11,
   "metadata": {},
   "outputs": [
    {
     "name": "stdout",
     "output_type": "stream",
     "text": [
      "These lines\n",
      "are broken!\n",
      "\n",
      "These lines aren't :)\n"
     ]
    }
   ],
   "source": [
    "print(\"These lines\")\n",
    "print(\"are broken!\")\n",
    "print()#Print separating line\n",
    "print(\"These lines\", end=' ')\n",
    "print(\"aren't :)\")"
   ]
  },
  {
   "cell_type": "markdown",
   "metadata": {},
   "source": [
    "## Defining functions with optional parameters\n",
    "Typically, a person calling a method must pass each argument specified by the programmer in the method header. Programmers can make an argument optional by assigning that argument a default value, which the method will fall back onto if no value for the argument was provided in the method call. When providing an optional argument, the method call will look very similar to a method call that utilizes keyword arguments. Method headers with optional arguments follow the syntax ```def method_name(optional_arg = default_val)```. Here is a method that, by default, prints a list from index 0 to index n. The programmer can pass a boolean value to the 'descending' argument to alter the behavior of the method, printing the list from index n to index 0."
   ]
  },
  {
   "cell_type": "code",
   "execution_count": 12,
   "metadata": {},
   "outputs": [
    {
     "name": "stdout",
     "output_type": "stream",
     "text": [
      "[1, 2, 3, 4, 5]\n",
      "[5, 4, 3, 2, 1]\n"
     ]
    }
   ],
   "source": [
    "def printlist(ls, descending = False):\n",
    "    if descending == True:\n",
    "        \"\"\"\n",
    "        This decision structure only runs if the method was called with a truthy\n",
    "        value for the 'descending' argument\n",
    "        \"\"\"\n",
    "        ls.reverse()\n",
    "    \n",
    "    #Back to normal program flow, this line will always run\n",
    "    print(ls)\n",
    "        \n",
    "ls = [1,2,3,4,5]\n",
    "printlist(ls)\n",
    "printlist(ls, descending = True)"
   ]
  }
 ],
 "metadata": {
  "kernelspec": {
   "display_name": "Python 3",
   "language": "python",
   "name": "python3"
  },
  "language_info": {
   "codemirror_mode": {
    "name": "ipython",
    "version": 3
   },
   "file_extension": ".py",
   "mimetype": "text/x-python",
   "name": "python",
   "nbconvert_exporter": "python",
   "pygments_lexer": "ipython3",
   "version": "3.13.1"
  }
 },
 "nbformat": 4,
 "nbformat_minor": 2
}
