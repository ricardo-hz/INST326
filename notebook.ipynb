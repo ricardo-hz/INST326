{
 "cells": [
  {
   "cell_type": "code",
   "execution_count": 39,
   "id": "0c7044e4",
   "metadata": {},
   "outputs": [
    {
     "name": "stdout",
     "output_type": "stream",
     "text": [
      "not instance\n"
     ]
    }
   ],
   "source": [
    "if not isinstance(dict(), (str | int)):\n",
    "    print(\"not instance\")\n",
    "else:\n",
    "    print(\"instance\")"
   ]
  },
  {
   "cell_type": "code",
   "execution_count": 42,
   "id": "bdafd4f6",
   "metadata": {},
   "outputs": [
    {
     "name": "stdout",
     "output_type": "stream",
     "text": [
      "3234567890\n"
     ]
    }
   ],
   "source": [
    "number = \"3234567890\"\n",
    "for digit in number:\n",
    "    if not digit.isalnum():\n",
    "        number = number.replace(digit, \"\")\n",
    "print(number)\n",
    "\n",
    "def shift_numbers(number):\n",
    "    return {\n",
    "        \"area_code\" : number[0:3],\n",
    "        \"exchange_number\" : number[3:6]\n",
    "    }\n",
    "\n",
    "number = shift_numbers(number)\n",
    "#print(number[\"area_code\"].startswith(\"1\"))\n",
    "\n",
    "ph_num = number\n",
    "if (any([\n",
    "    ph_num[\"area_code\"].startswith(\"0\"),\n",
    "    ph_num[\"area_code\"].startswith(\"1\"),\n",
    "    ph_num[\"area_code\"].endswith(\"11\"),\n",
    "    ph_num[\"exchange_number\"].startswith(\"0\"),\n",
    "    ph_num[\"exchange_number\"].startswith(\"1\"),\n",
    "    ph_num[\"exchange_number\"].endswith(\"11\")\n",
    "    ])):\n",
    "    print(\"Invalid\")"
   ]
  },
  {
   "cell_type": "code",
   "execution_count": 41,
   "id": "fde8ca1b",
   "metadata": {},
   "outputs": [
    {
     "name": "stdout",
     "output_type": "stream",
     "text": [
      "False\n"
     ]
    }
   ],
   "source": [
    "print(\"_\".isalnum())"
   ]
  }
 ],
 "metadata": {
  "kernelspec": {
   "display_name": "Python 3",
   "language": "python",
   "name": "python3"
  },
  "language_info": {
   "codemirror_mode": {
    "name": "ipython",
    "version": 3
   },
   "file_extension": ".py",
   "mimetype": "text/x-python",
   "name": "python",
   "nbconvert_exporter": "python",
   "pygments_lexer": "ipython3",
   "version": "3.13.1"
  }
 },
 "nbformat": 4,
 "nbformat_minor": 5
}
