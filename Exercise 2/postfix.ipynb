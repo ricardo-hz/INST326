{
 "cells": [
  {
   "cell_type": "code",
   "execution_count": 4,
   "metadata": {},
   "outputs": [
    {
     "name": "stdout",
     "output_type": "stream",
     "text": [
      "[5.0, 7.0, 6.0, 7.0]\n",
      "['+', '+', '*']\n",
      "[5.0, 7.0, 13.0]\n",
      "[5.0, 20.0]\n",
      "[100.0]\n"
     ]
    }
   ],
   "source": [
    "pfix = \"5 7 + 6 7 + *\"\n",
    "pfix = pfix.strip().split()\n",
    "possibleoperators = ['+','*','/','-']\n",
    "operators = []\n",
    "operands = []\n",
    "for element in pfix:\n",
    "    if element in possibleoperators:\n",
    "        operators.append(element)\n",
    "    else:\n",
    "        operands.append(float(element))\n",
    "        \n",
    "print(operands)\n",
    "print(operators)\n",
    "\n",
    "#operand1 = None\n",
    "#operand2 = None\n",
    "\n",
    "i = 0\n",
    "while len(operands) != 1:\n",
    "    operand2 = operands.pop()\n",
    "    operand1 = operands.pop()\n",
    "    #operator = operators[i]\n",
    "    match(operators[i]):\n",
    "        case('+'):\n",
    "            operands.append(operand1 + operand2)\n",
    "        case('*'):\n",
    "            operands.append(operand1 * operand2)\n",
    "        case('-'):\n",
    "            operands.append(operand1 - operand2)\n",
    "        case('/'):\n",
    "            operands.append(operand1 / operand2)\n",
    "    i += 1\n",
    "            \n",
    "    print(operands)"
   ]
  }
 ],
 "metadata": {
  "kernelspec": {
   "display_name": "Python 3",
   "language": "python",
   "name": "python3"
  },
  "language_info": {
   "codemirror_mode": {
    "name": "ipython",
    "version": 3
   },
   "file_extension": ".py",
   "mimetype": "text/x-python",
   "name": "python",
   "nbconvert_exporter": "python",
   "pygments_lexer": "ipython3",
   "version": "3.13.1"
  }
 },
 "nbformat": 4,
 "nbformat_minor": 2
}
