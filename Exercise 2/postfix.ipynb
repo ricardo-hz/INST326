{
 "cells": [
  {
   "cell_type": "code",
   "execution_count": 28,
   "metadata": {},
   "outputs": [
    {
     "name": "stdout",
     "output_type": "stream",
     "text": [
      "[5.0, 2.0, 5.0, 4.0]\n",
      "4 5 2 * + 5 +\n",
      "5.0 * 4.0\n",
      "5.0 + 2.0\n",
      "7.0 + 20.0\n",
      "[27.0]\n"
     ]
    }
   ],
   "source": [
    "expr = \"4 5 2 * + 5 +\" #Expected Result 19\n",
    "numbers = []\n",
    "possibleoperators = ['+','*','/','-']\n",
    "\n",
    "for element in expr:\n",
    "    if not element in possibleoperators and element != ' ':\n",
    "        numbers.append(float(element))\n",
    "    numbers.reverse()\n",
    "\n",
    "print(numbers)\n",
    "print(expr)\n",
    "for element in expr:\n",
    "    if element in possibleoperators:\n",
    "        operand2 = numbers.pop()\n",
    "        operand1 = numbers.pop()\n",
    "        match(element):\n",
    "            case('+'):\n",
    "                #numbers.append(operand1 + operand2)\n",
    "                numbers.insert(0, operand1 + operand2)\n",
    "                print(f\"{operand1} + {operand2}\")\n",
    "            case('*'):\n",
    "                #numbers.append(operand1 * operand2)\n",
    "                numbers.insert(0, operand1 * operand2)\n",
    "                print(f\"{operand1} * {operand2}\")\n",
    "            case('-'):\n",
    "                #numbers.append(operand1 - operand2)\n",
    "                numbers.insert(0, operand1 - operand2)\n",
    "                print(f\"{operand1} - {operand2}\")\n",
    "            case('/'):\n",
    "                #numbers.append(operand1 / operand2)\n",
    "                numbers.insert(0, operand1 / operand2)\n",
    "                print(f\"{operand1} / {operand2}\")\n",
    "        \n",
    "\n",
    "print(numbers)"
   ]
  },
  {
   "cell_type": "code",
   "execution_count": 18,
   "metadata": {},
   "outputs": [
    {
     "name": "stdout",
     "output_type": "stream",
     "text": [
      "[5.0, 7.0, 6.0, 7.0]\n",
      "['+', '+', '*']\n",
      "[5.0, 7.0, 13.0]\n",
      "[5.0, 20.0]\n",
      "[100.0]\n"
     ]
    }
   ],
   "source": [
    "pfix = \"5 7 + 6 7 + *\"\n",
    "pfix = pfix.strip().split()\n",
    "possibleoperators = ['+','*','/','-']\n",
    "operators = []\n",
    "operands = []\n",
    "for element in pfix:\n",
    "    if element in possibleoperators:\n",
    "        operators.append(element)\n",
    "    else:\n",
    "        operands.append(float(element))\n",
    "        \n",
    "print(operands)\n",
    "print(operators)\n",
    "\n",
    "#operand1 = None\n",
    "#operand2 = None\n",
    "\n",
    "i = 0\n",
    "while len(operands) != 1:\n",
    "    operand2 = operands.pop()\n",
    "    operand1 = operands.pop()\n",
    "    #operator = operators[i]\n",
    "    match(operators[i]):\n",
    "        case('+'):\n",
    "            operands.append(operand1 + operand2)\n",
    "        case('*'):\n",
    "            operands.append(operand1 * operand2)\n",
    "        case('-'):\n",
    "            operands.append(operand1 - operand2)\n",
    "        case('/'):\n",
    "            operands.append(operand1 / operand2)\n",
    "    i += 1\n",
    "            \n",
    "    print(operands)"
   ]
  }
 ],
 "metadata": {
  "kernelspec": {
   "display_name": "Python 3",
   "language": "python",
   "name": "python3"
  },
  "language_info": {
   "codemirror_mode": {
    "name": "ipython",
    "version": 3
   },
   "file_extension": ".py",
   "mimetype": "text/x-python",
   "name": "python",
   "nbconvert_exporter": "python",
   "pygments_lexer": "ipython3",
   "version": "3.13.1"
  }
 },
 "nbformat": 4,
 "nbformat_minor": 2
}
