{
 "cells": [
  {
   "cell_type": "markdown",
   "metadata": {},
   "source": [
    "# Object-oriented Programming Practice\n",
    "### Ricardo Hernandez\n",
    "\n",
    "Explain the following concepts in your own words:\n",
    "\n",
    "* Class\n",
    "\n",
    "* Method\n",
    "\n",
    "* Attribute\n",
    "\n",
    "Write example code which does the following:\n",
    "* Define a simple, original class with at least one method besides ```__init__()```\n",
    "\n",
    "* Create an instance of the class and invoke the method"
   ]
  },
  {
   "cell_type": "markdown",
   "metadata": {},
   "source": [
    "# What is a class?\n",
    "In object-oriented programming (OOP), a class provides the overarching framework from which objects are created (instantiated). They bundle the actions and attributes of an object together, which allows programmers to interact with concepts like encapsulation and code reusability.\n",
    "\n",
    "# What is a method?\n",
    "A method is essentially a function that's been written inside of a class. Because the method was written inside the class, it can only be accessed using the format ```CLASS_NAME.METHOD()```. Methods create and manipulate data, often returning a value that will be used in other parts of the program.\n",
    "\n",
    "# What is an attribute?\n",
    "An attribute is a piece of data that is attached to an object (an instance of a class). Attributes can be defined using the format ```CLASS_NAME.ATTRIBUTE = VALUE```. Attributes can take the form of any data type, like string, int, float, dict, etc. The expression ```CLASS_NAME.ATTRIBUTE``` evalutes to whatever the value of the attribute is, assuming the attribute has already been defined. Attributes can, and sometimes must be passed to the object's constructor while creating the object."
   ]
  },
  {
   "cell_type": "code",
   "execution_count": 7,
   "metadata": {},
   "outputs": [
    {
     "name": "stdout",
     "output_type": "stream",
     "text": [
      "McDonald's has issued 0 tickets so far.\n",
      "Chopt has issued 10 tickets so far.\n",
      "New ticket created! This is ticket #1011\n",
      "New ticket created! This is ticket #1001\n",
      "New ticket created! This is ticket #1002\n",
      "New ticket created! This is ticket #1003\n",
      "New ticket created! This is ticket #1004\n",
      "New ticket created! This is ticket #1005\n",
      "McDonald's has issued 5 tickets so far.\n",
      "Chopt has issued 11 tickets so far.\n"
     ]
    }
   ],
   "source": [
    "class TicketMachine:\n",
    "    \"\"\"Generates numbered tickets\n",
    "    \n",
    "    Attributes:\n",
    "        tickets_issued (int): The number of tickets that have been issued prior\n",
    "            to the creation of the TicketMachine object. Defaults to 0 if no\n",
    "            argument is given.\n",
    "            \n",
    "        venue (str): A string of the entity issuing tickets\n",
    "    \"\"\"\n",
    "    def __init__(self, tickets_issued = 0):\n",
    "        self.ticketsIssued = tickets_issued\n",
    "    \n",
    "    def issue_ticket(self):\n",
    "        self.ticketsIssued += 1\n",
    "        print(f\"New ticket created!\"\n",
    "              f\" This is ticket #{1000 + self.ticketsIssued}\")\n",
    "    \n",
    "    def announce_ticket_count(self):\n",
    "        print(f\"{self.venue} has issued {self.ticketsIssued} tickets so far.\")\n",
    "\n",
    "#Create objects\n",
    "tm1 = TicketMachine()\n",
    "tm2 = TicketMachine(10)\n",
    "\n",
    "#Alternative way of creating attributes\n",
    "tm1.venue = \"McDonald's\"\n",
    "tm2.venue = \"Chopt\"\n",
    "\n",
    "#Access Attributes\n",
    "tm1.announce_ticket_count()\n",
    "tm2.announce_ticket_count()\n",
    "\n",
    "#Call methods\n",
    "tm2.issue_ticket()\n",
    "for i in range(5):\n",
    "    tm1.issue_ticket() \n",
    "tm1.announce_ticket_count()\n",
    "tm2.announce_ticket_count()"
   ]
  }
 ],
 "metadata": {
  "kernelspec": {
   "display_name": "Python 3",
   "language": "python",
   "name": "python3"
  },
  "language_info": {
   "codemirror_mode": {
    "name": "ipython",
    "version": 3
   },
   "file_extension": ".py",
   "mimetype": "text/x-python",
   "name": "python",
   "nbconvert_exporter": "python",
   "pygments_lexer": "ipython3",
   "version": "3.13.1"
  }
 },
 "nbformat": 4,
 "nbformat_minor": 2
}
