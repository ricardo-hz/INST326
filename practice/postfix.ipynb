{
 "cells": [
  {
   "cell_type": "code",
   "execution_count": 23,
   "metadata": {},
   "outputs": [
    {
     "name": "stdout",
     "output_type": "stream",
     "text": [
      "[5.0, 1000.0, 2.0, 3.0, 1.0]\n",
      "['+', '*', '-', '/']\n",
      "[5.0, 1000.0, 2.0, 4.0]\n",
      "[5.0, 1000.0, 8.0]\n",
      "[5.0, 992.0]\n",
      "[0.005040322580645161]\n"
     ]
    }
   ],
   "source": [
    "pfix = \"5 1000 2 3 1 + * - /\"\n",
    "pfix = pfix.strip().split()\n",
    "possibleoperators = ['+','*','/','-']\n",
    "operators = []\n",
    "operands = []\n",
    "for element in pfix:\n",
    "    if element in possibleoperators:\n",
    "        operators.append(element)\n",
    "    else:\n",
    "        operands.append(float(element))\n",
    "        \n",
    "print(operands)\n",
    "print(operators)\n",
    "\n",
    "operand1 = None\n",
    "operand2 = None\n",
    "\n",
    "i = 0\n",
    "while len(operands) != 1:\n",
    "    operand2 = operands.pop()\n",
    "    operand1 = operands.pop()\n",
    "    operator = operators[i]\n",
    "    i += 1\n",
    "    match(operator):\n",
    "        case('+'):\n",
    "            operands.append(operand1 + operand2)\n",
    "        case('*'):\n",
    "            operands.append(operand1 * operand2)\n",
    "        case('-'):\n",
    "            operands.append(operand1 - operand2)\n",
    "        case('/'):\n",
    "            operands.append(operand1 / operand2)\n",
    "            \n",
    "    print(operands)"
   ]
  }
 ],
 "metadata": {
  "kernelspec": {
   "display_name": "Python 3",
   "language": "python",
   "name": "python3"
  },
  "language_info": {
   "codemirror_mode": {
    "name": "ipython",
    "version": 3
   },
   "file_extension": ".py",
   "mimetype": "text/x-python",
   "name": "python",
   "nbconvert_exporter": "python",
   "pygments_lexer": "ipython3",
   "version": "3.13.1"
  }
 },
 "nbformat": 4,
 "nbformat_minor": 2
}
