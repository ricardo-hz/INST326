{
 "cells": [
  {
   "cell_type": "markdown",
   "id": "f8826ee9",
   "metadata": {},
   "source": [
    "# Magic Methods Practice\n",
    "### Ricardo Hernandez\n",
    "\n",
    "* Provide an original class (made up by you, off the top of your head, not copied or adapted from another source) that implements both of the following:\n",
    "    * 1 magic method that defines a unary or binary operation where at least one operand is an instance of the class\n",
    "    * 1 magic method that provides a formal or informal string representation of an instance of the class\n",
    "* Write code that creates one or more instances of the class and makes use of the magic methods without calling them directly (in other words, use the operation you defined and print an instance of your object)\n"
   ]
  },
  {
   "cell_type": "markdown",
   "id": "bff5037e",
   "metadata": {},
   "source": [
    "#### Explanation of class\n",
    "UMD allows courses to be cross-listed with one another. This means that a single course can be represented by multiple course prefix and/or numbers. The ```Course()``` class represents this fact by using the ```__add()__``` magic method."
   ]
  },
  {
   "cell_type": "code",
   "execution_count": null,
   "id": "25b58fd6",
   "metadata": {},
   "outputs": [],
   "source": [
    "class Course():\n",
    "    def __init__(self, short_name, long_name):\n",
    "        if isinstance(short_name, set):\n",
    "            self.short_name = short_name\n",
    "        else:\n",
    "            self.short_name = {short_name}\n",
    "            \n",
    "        self.long_name = long_name\n",
    "        \n",
    "    def __add__(self, other_course):\n",
    "        if not isinstance(other_course, Course):\n",
    "            raise TypeError(f\"Cannot add {other_course} prefix/numbers to {self}\")\n",
    "        \n",
    "        return Course(self.short_name | other_course.short_name, self.long_name)\n",
    "    \n",
    "    def __str__(self):\n",
    "        # Add short names to string\n",
    "        s = \"\"\n",
    "        for name in self.short_name:\n",
    "            s += f\"{name}, \"\n",
    "\n",
    "        # Remove trailing comma and space\n",
    "        return s.strip().strip(',') + f\": {self.long_name}\""
   ]
  },
  {
   "cell_type": "code",
   "execution_count": 211,
   "id": "3c3994c2",
   "metadata": {},
   "outputs": [
    {
     "name": "stdout",
     "output_type": "stream",
     "text": [
      "SPAN234: Issues in Latin American and Carribbean Studies I\n",
      "PORT234, SPAN234, LACS234: Issues in Latin American and Carribbean Studies I\n",
      "LACS234: Issues in Latin American and Carribbean Studies I\n"
     ]
    }
   ],
   "source": [
    "course1 = Course(\"SPAN234\", \"Issues in Latin American and Carribbean Studies I\")\n",
    "print(course1)\n",
    "course2 = Course(\"LACS234\", \"Issues in Latin American and Carribbean Studies I\")\n",
    "course1 += Course(\"LACS234\", course1.long_name)\n",
    "course1 += Course (\"PORT234\", course1.long_name)\n",
    "print(course1)\n",
    "print(course2)\n",
    "#print(course1.short_name | course2.short_name)\n",
    "\n",
    "#ARCH271 example"
   ]
  },
  {
   "cell_type": "code",
   "execution_count": 210,
   "id": "6f5dbb50",
   "metadata": {},
   "outputs": [
    {
     "name": "stdout",
     "output_type": "stream",
     "text": [
      "{'goodbye', 'hello'}\n"
     ]
    }
   ],
   "source": [
    "s = {\"hello\"}\n",
    "s.add(\"goodbye\")\n",
    "print(s)"
   ]
  },
  {
   "cell_type": "markdown",
   "id": "319acabe",
   "metadata": {},
   "source": [
    "\n",
    "    provide an original class (made up by you, off the top of your head, not copied or adapted from another source) that implements both of the following:\n",
    "        one magic method that defines a unary or binary operation where at least one operand is an instance of the class\n",
    "        one magic method that provides a formal or informal string representation of an instance of the class\n",
    "    write code that creates one or more instances of the class and makes use of the magic methods without calling them directly (in other words, use the operation you defined and print an instance of your object)\n"
   ]
  }
 ],
 "metadata": {
  "kernelspec": {
   "display_name": ".venv",
   "language": "python",
   "name": "python3"
  },
  "language_info": {
   "codemirror_mode": {
    "name": "ipython",
    "version": 3
   },
   "file_extension": ".py",
   "mimetype": "text/x-python",
   "name": "python",
   "nbconvert_exporter": "python",
   "pygments_lexer": "ipython3",
   "version": "3.12.3"
  }
 },
 "nbformat": 4,
 "nbformat_minor": 5
}
