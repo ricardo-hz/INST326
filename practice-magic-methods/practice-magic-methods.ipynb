{
 "cells": [
  {
   "cell_type": "markdown",
   "id": "f8826ee9",
   "metadata": {},
   "source": [
    "Practice"
   ]
  },
  {
   "cell_type": "code",
   "execution_count": null,
   "id": "25b58fd6",
   "metadata": {},
   "outputs": [],
   "source": [
    "class Course():\n",
    "    def __init__(self, short_name, long_name, associated_school = None):\n",
    "        self.short_name = short_name\n",
    "        self.long_name = long_name\n",
    "        self.associated_school = associated_school\n",
    "        \n",
    "        #Magic method where at least one operand is an instance of the class\n",
    "        #For this method, demonstrate cross listings\n",
    "        #eg LACS234 = SPAN234 + PORT234\n",
    "        \n",
    "        #String representation\n",
    "        #short_name : long_name"
   ]
  },
  {
   "cell_type": "markdown",
   "id": "319acabe",
   "metadata": {},
   "source": [
    "\n",
    "    provide an original class (made up by you, off the top of your head, not copied or adapted from another source) that implements both of the following:\n",
    "        one magic method that defines a unary or binary operation where at least one operand is an instance of the class\n",
    "        one magic method that provides a formal or informal string representation of an instance of the class\n",
    "    write code that creates one or more instances of the class and makes use of the magic methods without calling them directly (in other words, use the operation you defined and print an instance of your object)\n"
   ]
  }
 ],
 "metadata": {
  "kernelspec": {
   "display_name": ".venv",
   "language": "python",
   "name": "python3"
  },
  "language_info": {
   "codemirror_mode": {
    "name": "ipython",
    "version": 3
   },
   "file_extension": ".py",
   "mimetype": "text/x-python",
   "name": "python",
   "nbconvert_exporter": "python",
   "pygments_lexer": "ipython3",
   "version": "3.12.3"
  }
 },
 "nbformat": 4,
 "nbformat_minor": 5
}
