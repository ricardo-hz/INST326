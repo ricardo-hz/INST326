{
 "cells": [
  {
   "cell_type": "markdown",
   "metadata": {},
   "source": [
    "# Container Data Types 1 Practice\n",
    "### Ricardo Hernandez\n",
    "\n",
    "Explain the following concepts in your own words and provide clear, working, original examples of each:\n",
    "\n",
    "* Sequence unpacking\n",
    "\n",
    "* Dictionary\n",
    "    * Document the syntax for adding a key/value pair to a dictionary.\n",
    "    * Document the syntax for using a key to retrieve a value from a dictionary.\n",
    "\n",
    "* One of the following set operations\n",
    "    * Union\n",
    "    * Intersection\n",
    "    * Difference\n",
    "    * Symmetric Difference"
   ]
  },
  {
   "cell_type": "markdown",
   "metadata": {},
   "source": [
    "## Sequence Unpacking\n",
    "Sequence unpacking is a concept in Python in which the elements from a sequence (e.g., lists, tuples, strings) of length n can be assigned to n variables in a single operation. In most cases, the number of elements inside the sequence must match the number of variables being assigned. The syntax to unpack a sequence is ```var1, var2, ..., varN = SEQUENCE```."
   ]
  },
  {
   "cell_type": "code",
   "execution_count": 39,
   "metadata": {},
   "outputs": [
    {
     "name": "stdout",
     "output_type": "stream",
     "text": [
      "Sequence to be unpacked: [2025, 3, 3]\n",
      "Unpacking...\n",
      "ISO 8601 Date Format: 2025-3-3\n",
      "European Date Format: 3/3/2025\n",
      "American Date Format: 3/3/2025\n",
      "\n",
      "Sequence to be unpacked: [2025, 3, 3, 'foo']\n",
      "Unpacking...\n",
      "The sequence was unable to be unpacked.\n",
      "Expected 3 values, received 4.\n"
     ]
    }
   ],
   "source": [
    "import datetime\n",
    "\n",
    "#Valid sequence unpacking example\n",
    "date = datetime.datetime.today()\n",
    "date = [date.year, date.month, date.day]\n",
    "print(f'Sequence to be unpacked: {date}')\n",
    "print(\"Unpacking...\")\n",
    "yy, mm, dd = date\n",
    "print(f\"ISO 8601 Date Format: {yy}-{mm}-{dd}\")\n",
    "print(f\"European Date Format: {dd}/{mm}/{yy}\")\n",
    "print(f\"American Date Format: {mm}/{dd}/{yy}\")\n",
    "\n",
    "print()\n",
    "\n",
    "#Invalid sequence unpacking example\n",
    "date.append('foo')\n",
    "print(f'Sequence to be unpacked: {date}')\n",
    "print('Unpacking...')\n",
    "\n",
    "try:\n",
    "    yy, mm, dd = date\n",
    "except:\n",
    "    print(\"The sequence was unable to be unpacked.\")\n",
    "    print(f\"Expected 3 values, received {len(date)}.\")"
   ]
  },
  {
   "cell_type": "markdown",
   "metadata": {},
   "source": [
    "## Dictionaries\n",
    "A dictionary is a mutable container data type that relies on key-value pairs to store and retrieve elements. The syntax for adding a key-value pair to a dictionary is ```DICT[KEY] = VALUE```. \n",
    "\n",
    "There are two ways to retrieve a value from a dictionary using a key. You can use a key to retrieve a value with the syntax ```DICT[KEY]```. You can also use the dictionary's ```.get()``` method, following the syntax ```DICT.get(KEY[,DEFAULT])```. The ```.get()``` method will return ```DEFAULT``` if default has been defined and a value cannot be found for the given key."
   ]
  },
  {
   "cell_type": "code",
   "execution_count": 40,
   "metadata": {},
   "outputs": [
    {
     "name": "stdout",
     "output_type": "stream",
     "text": [
      "A Pineapple Smoothie costs $6.99 and has 300 calories.\n",
      "\n",
      "A Pineapple Smoothie costs $6.99 and has 300 calories.\n",
      "A Strawberry Smoothie costs $6.99 and has 270 calories.\n",
      "\n",
      "[6.99, 300]\n",
      "[-1, -1]\n"
     ]
    }
   ],
   "source": [
    "menu = {\n",
    "    \"Pineapple Smoothie\" : [6.99, 300]\n",
    "}\n",
    "\n",
    "def print_menu():\n",
    "    for name, attributes in menu.items():\n",
    "        print(f'A {name} costs ${attributes[0]} and '\n",
    "            f'has {attributes[1]} calories.')\n",
    "    print()\n",
    "print_menu()\n",
    "\n",
    "# Adding to a dictionary\n",
    "menu[\"Strawberry Smoothie\"] = [6.99, 270]\n",
    "print_menu()\n",
    "\n",
    "# Retreiving values from a dictionary\n",
    "pineapple = menu[\"Pineapple Smoothie\"]\n",
    "print(pineapple)\n",
    "\n",
    "mango = menu.get(\"Mango Smoothie\", [-1, -1])\n",
    "print(mango)\n"
   ]
  },
  {
   "cell_type": "markdown",
   "metadata": {},
   "source": [
    "## Symmetric Difference\n",
    "\n",
    "A symmetric difference indicates an object that is in one set or the other, but not both. Symmetric difference is also known as an 'exclusive or'. There are a few syntactic options for obtaining the symmetric difference of 2 sets.\n",
    "\n",
    "* Basic: Does not alter the calling set.\n",
    "    * Method\n",
    "        * ```SET1.symmetric_difference(SET2)```\n",
    "    * Operator\n",
    "        * ```SET1 ^ SET2```\n",
    "\n",
    "* In Place: Alters the calling set.\n",
    "    * Method\n",
    "        * ```SET1.symmetric_difference_update(SET2)```\n",
    "    * Operator\n",
    "        * ```SET1 ^= SET2```"
   ]
  },
  {
   "cell_type": "code",
   "execution_count": null,
   "metadata": {},
   "outputs": [
    {
     "name": "stdout",
     "output_type": "stream",
     "text": [
      "{'purple', 'silver', 'brown', 'pink'}\n",
      "{'purple', 'brown', 'pink'}\n",
      "\n",
      "unique = {'yellow', 'red', 'orange', 'blue', 'green'}\n",
      "Updating unique...\n",
      "unique = {'silver'}\n"
     ]
    }
   ],
   "source": [
    "san_francisco = {'red', 'orange', 'blue', 'green', 'yellow'}\n",
    "washington_dc = {'red', 'orange', 'blue', 'green', 'yellow', 'silver'}\n",
    "chicago = {'red', 'orange', 'blue', 'green', 'yellow', \n",
    "           'brown', 'pink', 'purple'}\n",
    "\n",
    "print(washington_dc.symmetric_difference(chicago)) #Basic method \n",
    "\n",
    "print(chicago ^ san_francisco) #Basic operator \n",
    "\n",
    "\n",
    "unique = set()\n",
    "unique.symmetric_difference_update(san_francisco) # In-place method \n",
    "print()\n",
    "\n",
    "print(f'unique = {unique}')\n",
    "print(\"Updating unique...\")\n",
    "unique ^= washington_dc # In-place operator\n",
    "print(f'unique = {unique}')\n"
   ]
  }
 ],
 "metadata": {
  "kernelspec": {
   "display_name": "Python 3",
   "language": "python",
   "name": "python3"
  },
  "language_info": {
   "codemirror_mode": {
    "name": "ipython",
    "version": 3
   },
   "file_extension": ".py",
   "mimetype": "text/x-python",
   "name": "python",
   "nbconvert_exporter": "python",
   "pygments_lexer": "ipython3",
   "version": "3.13.1"
  }
 },
 "nbformat": 4,
 "nbformat_minor": 2
}
