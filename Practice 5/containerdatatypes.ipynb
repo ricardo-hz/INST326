{
 "cells": [
  {
   "cell_type": "markdown",
   "metadata": {},
   "source": [
    "# Container Data Types 1 Practice\n",
    "### Ricardo Hernandez\n",
    "\n",
    "Explain the following concepts in your own words and provide clear, working, original examples of each:\n",
    "\n",
    "* Sequence unpacking\n",
    "\n",
    "* Dictionary\n",
    "    * Document the syntax for adding a key/value pair to a dictionary.\n",
    "    * Document the syntax for using a key to retrieve a value from a dictionary.\n",
    "\n",
    "* One of the following set operations\n",
    "    * Union\n",
    "    * Intersection\n",
    "    * Difference\n",
    "    * Symmetric Difference"
   ]
  },
  {
   "cell_type": "markdown",
   "metadata": {},
   "source": [
    "## Sequence Unpacking\n",
    "Sequence unpacking is a concept in Python in which the elements from a sequence (e.g., lists, tuples, strings) of length n can be assigned to n variables in a single operation. In most cases, the number of elements inside the sequence must match the number of variables being assigned. The syntax to unpack a sequence is ```var1, var2, ..., varN = SEQUENCE```.\n",
    "\n",
    "Should I add extended unpacking?"
   ]
  },
  {
   "cell_type": "code",
   "execution_count": null,
   "metadata": {},
   "outputs": [
    {
     "name": "stdout",
     "output_type": "stream",
     "text": [
      "Sequence to be unpacked: [2025, 3, 2]\n",
      "Unpacking...\n",
      "ISO 8601 Date Format: 2025-3-2\n",
      "European Date Format: 2/3/2025\n",
      "American Date Format: 3/2/2025\n",
      "\n",
      "Sequence to be unpacked: [2025, 3, 2, '69920']\n",
      "Unpacking...\n",
      "The sequence was unable to be unpacked.\n",
      "Expected 3 values, received 4.\n"
     ]
    }
   ],
   "source": [
    "import datetime\n",
    "\n",
    "#Valid sequence unpacking example\n",
    "date = datetime.datetime.today()\n",
    "date = [date.year, date.month, date.day]\n",
    "print(f'Sequence to be unpacked: {date}')\n",
    "print(\"Unpacking...\")\n",
    "yy, mm, dd = date\n",
    "print(f\"ISO 8601 Date Format: {yy}-{mm}-{dd}\")\n",
    "print(f\"European Date Format: {dd}/{mm}/{yy}\")\n",
    "print(f\"American Date Format: {mm}/{dd}/{yy}\")\n",
    "\n",
    "print()\n",
    "\n",
    "#Invalid sequence unpacking example\n",
    "date = datetime.datetime.today()\n",
    "date = [date.year, date.month, date.day, (f'{date.microsecond}')]\n",
    "print(f'Sequence to be unpacked: {date}')\n",
    "print('Unpacking...')\n",
    "\n",
    "try:\n",
    "    yy, mm, dd = date\n",
    "except:\n",
    "    print(\"The sequence was unable to be unpacked.\")\n",
    "    print(f\"Expected 3 values, received {len(date)}.\")"
   ]
  },
  {
   "cell_type": "markdown",
   "metadata": {},
   "source": [
    "## Dictionary\n",
    "Add words."
   ]
  },
  {
   "cell_type": "markdown",
   "metadata": {},
   "source": [
    "## Symmetric Difference\n",
    "Add words."
   ]
  }
 ],
 "metadata": {
  "kernelspec": {
   "display_name": "Python 3",
   "language": "python",
   "name": "python3"
  },
  "language_info": {
   "codemirror_mode": {
    "name": "ipython",
    "version": 3
   },
   "file_extension": ".py",
   "mimetype": "text/x-python",
   "name": "python",
   "nbconvert_exporter": "python",
   "pygments_lexer": "ipython3",
   "version": "3.13.1"
  }
 },
 "nbformat": 4,
 "nbformat_minor": 2
}
