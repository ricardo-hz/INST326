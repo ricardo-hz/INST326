{
 "cells": [
  {
   "cell_type": "markdown",
   "metadata": {},
   "source": [
    "# Python Fundamentals Practice 2\n",
    "### Ricardo Hernandez\n",
    "\n",
    "Explain the following concepts in your own words and provide clear, working, original examples of each:\n",
    "\n",
    "* assert statements\n",
    "\n",
    "* testing floating-point values with math.isclose()\n",
    "\n",
    "* import statements"
   ]
  },
  {
   "cell_type": "markdown",
   "metadata": {},
   "source": [
    "## Assert Statements\n",
    "An assert statement tells Python to verify an expression. The general syntax for an assert statement is either ```assert EXPRESSION == VALUE``` or ```assert EXPRESSION == VALUE, (\"ERROR MESSAGE\")```. When the assert statement evaluates to True, the program continues running as normal. When the assert statement evaluates to false, the program will halt and throw an exception."
   ]
  },
  {
   "cell_type": "code",
   "execution_count": 10,
   "metadata": {},
   "outputs": [
    {
     "name": "stdout",
     "output_type": "stream",
     "text": [
      "An assertion error was raised.\n"
     ]
    }
   ],
   "source": [
    "def validate_parking(str):\n",
    "    valid_plates = ['DJK4300','32MKJLT','RH12345','NC00102','UMD326I']\n",
    "    return (str in valid_plates)\n",
    "\n",
    "def test_parking_validation():\n",
    "    assert validate_parking(\"DJK4300\") #Eval to true\n",
    "    assert validate_parking(\"RH12345\") #Eval to true\n",
    "    assert validate_parking(\"UMD4321\"), \"Plate not in list\" #Eval to False\n",
    "\n",
    "try:\n",
    "    test_parking_validation()\n",
    "except:\n",
    "    print(\"An assertion error was raised.\")"
   ]
  },
  {
   "cell_type": "markdown",
   "metadata": {},
   "source": [
    "## math.isclose()\n",
    "\n",
    "Floats in Python can be imprecise, resulting in assert statements that raise exceptions when logically they shouldn't. One example of this is the statement ```assert 1/3 == (10/3)/10```. To account for this, the ```math.isclose()``` method can prevent this by checking whether one value is close enough to another value."
   ]
  },
  {
   "cell_type": "code",
   "execution_count": null,
   "metadata": {},
   "outputs": [
    {
     "name": "stdout",
     "output_type": "stream",
     "text": [
      "An assertion error was raised.\n"
     ]
    }
   ],
   "source": [
    "from math import isclose\n",
    "\n",
    "#In a financial situation, these two values are practically the same, only\n",
    "#off by a fraction of a penny\n",
    "expected = 100\n",
    "computed = 99.99999999999\n",
    "\n",
    "try:\n",
    "    assert (computed == expected), \"The two values are not the same\"\n",
    "except:\n",
    "    print(\"An assertion error was raised.\")\n",
    "    \n",
    "assert isclose(computed,expected) == True #Evaluates to True"
   ]
  },
  {
   "cell_type": "markdown",
   "metadata": {},
   "source": [
    "## Import Statements\n",
    "\n",
    "Import statements allow you to reuse code from other people's programs. Some of the most commonly needed imports are the ```random``` module and the ```math``` module. There are a few different ways to use import statements. When importing an entire module, you can simply write ```import MODULE```. When importing methods from a module, you can write ```from MODULE import METHOD```."
   ]
  },
  {
   "cell_type": "code",
   "execution_count": null,
   "metadata": {},
   "outputs": [
    {
     "name": "stdout",
     "output_type": "stream",
     "text": [
      "Importing haversine package...\n",
      "Note: you may need to restart the kernel to use updated packages.\n",
      "Washington, DC is 7.48 miles away from UMD's College Park campus.\n"
     ]
    }
   ],
   "source": [
    "dc_coordinates = (38.9072, 77.0369)\n",
    "university_of_maryland_college_park_coordinates = (38.9869, 76.9426)\n",
    "\n",
    "try:\n",
    "    haversine(dc_coordinates, university_of_maryland_college_park_coordinates, \n",
    "              unit=Unit.MILES)\n",
    "except:\n",
    "    print(\"Package not imported\")\n",
    "\n",
    "print(\"Importing haversine package...\")\n",
    "#Silence install output\n",
    "%pip install haversine -q -q -q\n",
    "from haversine import haversine, Unit\n",
    "\n",
    "distance = round(haversine(dc_coordinates, \n",
    "                     university_of_maryland_college_park_coordinates, \n",
    "                     unit=Unit.MILES),2)\n",
    "print(f\"Washington, DC is {distance} \"\n",
    "      f\"miles away from UMD's College Park campus.\")"
   ]
  }
 ],
 "metadata": {
  "kernelspec": {
   "display_name": "Python 3",
   "language": "python",
   "name": "python3"
  },
  "language_info": {
   "codemirror_mode": {
    "name": "ipython",
    "version": 3
   },
   "file_extension": ".py",
   "mimetype": "text/x-python",
   "name": "python",
   "nbconvert_exporter": "python",
   "pygments_lexer": "ipython3",
   "version": "3.13.1"
  }
 },
 "nbformat": 4,
 "nbformat_minor": 2
}
