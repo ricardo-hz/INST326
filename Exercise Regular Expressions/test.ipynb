{
 "cells": [
  {
   "cell_type": "code",
   "execution_count": 6,
   "metadata": {},
   "outputs": [
    {
     "name": "stdout",
     "output_type": "stream",
     "text": [
      "700 Oak Street, Brockton MA 02301\n"
     ]
    }
   ],
   "source": [
    "import re\n",
    "class Address():\n",
    "    pattern = r\"(^\\S+) (\\D+), (\\D+) ([A-Z]{2}) (\\d{5})\"\n",
    "    def __init__(self, address):\n",
    "        match = re.search(Address.pattern, address)\n",
    "        if match:\n",
    "            self.house_number = match.group(1)\n",
    "            self.street = match.group(2)\n",
    "            self.city = match.group(3)\n",
    "            self.state = match.group(4)\n",
    "            self.zip = match.group(5)\n",
    "        else:\n",
    "            raise ValueError(\"The string could not be parsed\")\n",
    "        \n",
    "address = Address(\"700 Oak Street, Brockton MA 02301\")\n",
    "print(f\"{address.house_number} {address.street}, {address.city} {address.state} {address.zip}\")"
   ]
  }
 ],
 "metadata": {
  "kernelspec": {
   "display_name": ".venv",
   "language": "python",
   "name": "python3"
  },
  "language_info": {
   "codemirror_mode": {
    "name": "ipython",
    "version": 3
   },
   "file_extension": ".py",
   "mimetype": "text/x-python",
   "name": "python",
   "nbconvert_exporter": "python",
   "pygments_lexer": "ipython3",
   "version": "3.12.3"
  }
 },
 "nbformat": 4,
 "nbformat_minor": 2
}
