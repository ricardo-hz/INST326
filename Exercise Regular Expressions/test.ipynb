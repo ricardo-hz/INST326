{
 "cells": [
  {
   "cell_type": "code",
   "execution_count": null,
   "metadata": {},
   "outputs": [
    {
     "name": "stdout",
     "output_type": "stream",
     "text": [
      "700 Oak Street, Brockton MA 02301\n",
      "02301\n"
     ]
    }
   ],
   "source": [
    "import re\n",
    "class Address():\n",
    "    pattern = r\"(?P<street_number>^\\S+) (?P<street_name>.+), \"\\\n",
    "        r\"(?P<city>\\D+) (?P<state>[A-Z]{2}) (?P<zip>\\d{5})\"\n",
    "        \n",
    "    def __init__(self, address):\n",
    "        match = re.search(Address.pattern, address)\n",
    "        if match:\n",
    "            self.address = match.group(0)\n",
    "            self.house_number = match.group(\"street_number\")\n",
    "            self.street = match.group(\"street_name\")\n",
    "            self.city = match.group(\"city\")\n",
    "            self.state = match.group(\"state\")\n",
    "            self.zip = match.group(\"zip\")\n",
    "        else:\n",
    "            raise ValueError(f\"{address} could not be parsed\")\n",
    "\n",
    "    def __repr__(self):\n",
    "        \"\"\"Return a formal representation of the Address object.\"\"\"\n",
    "        return (\n",
    "            f\"address:      {self.address}\\n\"\n",
    "            f\"house number: {self.house_number}\\n\"\n",
    "            f\"street:       {self.street}\\n\"\n",
    "            f\"city:         {self.city}\\n\"\n",
    "            f\"state:        {self.state}\\n\"\n",
    "            f\"zip:          {self.zip}\"\n",
    "        )\n",
    "\n",
    "def read_addresses(path):\n",
    "    with open(path, 'r', encoding=\"utf-8\") as f:\n",
    "        address_list = [Address(line) for line in f]\n",
    "    return address_list\n",
    "        \n",
    "address = Address(\"700 Oak Street, Brockton MA 02301\")\n",
    "print(f\"{address.house_number} {address.street}, {address.city} {address.state} {address.zip}\")\n",
    "print(address.zip)\n",
    "#read_addresses(\"./addresses.txt\")"
   ]
  }
 ],
 "metadata": {
  "kernelspec": {
   "display_name": ".venv",
   "language": "python",
   "name": "python3"
  },
  "language_info": {
   "codemirror_mode": {
    "name": "ipython",
    "version": 3
   },
   "file_extension": ".py",
   "mimetype": "text/x-python",
   "name": "python",
   "nbconvert_exporter": "python",
   "pygments_lexer": "ipython3",
   "version": "3.12.3"
  }
 },
 "nbformat": 4,
 "nbformat_minor": 2
}
