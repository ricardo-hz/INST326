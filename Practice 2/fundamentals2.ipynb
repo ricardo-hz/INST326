{
 "cells": [
  {
   "cell_type": "markdown",
   "metadata": {},
   "source": [
    "# Python Fundamentals Practice 2\n",
    "### Ricardo Hernandez\n",
    "\n",
    "Explain the following concepts in your own words and provide clear, working, original examples of each:\n",
    "\n",
    "* f-strings\n",
    "\n",
    "* Lists\n",
    "    * Choose at least two things about lists from the lecture videos that are new to you or that you need practice with. Explain them briefly but clearly; summarize the syntax for them; provide illustrative examples.\n",
    "\n",
    "* Reading the contents of a file with a ```with``` statement, using the file object as an iterator in a ```for``` loop"
   ]
  },
  {
   "cell_type": "markdown",
   "metadata": {},
   "source": [
    "## f-strings\n",
    "An f-string is a string literal whose first two characters are the letter f, followed by some form of an opening quote (', '', ''', \", \"\", \"\"\"). Doing this allows the programmer to insert expressions into the string by using a set of curly braces, rather than the more common concatenation operator (+) seen in other programming languages and earlier versions of Python. The general python syntax for this is ```print(f\"STRING {EXPRESSION}\")```."
   ]
  },
  {
   "cell_type": "code",
   "execution_count": 19,
   "metadata": {},
   "outputs": [
    {
     "name": "stdout",
     "output_type": "stream",
     "text": [
      "My name is Ricardo and I am a Sophomore who majors in Information Science\n",
      "My name is Ricardo and I am a Sophomore who majors in Information Science\n"
     ]
    }
   ],
   "source": [
    "name = \"Ricardo\"\n",
    "year = \"Sophomore\"\n",
    "major = \"Information Science\"\n",
    "\n",
    "print(\"My name is \" + name + \" and I am a \" + year + \" who majors in \" +\n",
    "      major)\n",
    "\n",
    "print(f\"My name is {name} and I am a {year} who majors in {major}\")"
   ]
  },
  {
   "cell_type": "markdown",
   "metadata": {},
   "source": [
    "Similar to how expressions can be concatenated with strings, a programmer can put an expression inside the curly braces of an f-string and Python will evalute the expression and convert the result to the string data type. This differs from concatenated string literals, which require the programmer to convert some expressions using the ```str()``` method."
   ]
  },
  {
   "cell_type": "code",
   "execution_count": 20,
   "metadata": {},
   "outputs": [
    {
     "name": "stdout",
     "output_type": "stream",
     "text": [
      "The result of 5 + 5 is 10\n",
      "The result of 5 + 5 is 10\n",
      "An exception was caught due to invalid concatenation.\n"
     ]
    }
   ],
   "source": [
    "print(f\"The result of 5 + 5 is {5+5}\") #Valid\n",
    "print(\"The result of 5 + 5 is \" + str(5+5)) #Valid\n",
    "try:\n",
    "    print(\"The result of 5 + 5 is \" + 5+5) #Invalid, will throw TypeError\n",
    "except TypeError:\n",
    "    print(\"An exception was caught due to invalid concatenation.\")"
   ]
  },
  {
   "cell_type": "markdown",
   "metadata": {},
   "source": [
    "## Lists\n",
    "In Python, lists are a container data type with an ordered sequence. In other words, lists in Python can consist of other Python data types, and the order of these types within the list is important. Python lists have many methods, two of the most important being the ```.extend()``` method and the ```.append()``` method. Both methods allow you to add to a list, however, their use cases differ. You can also add to a list by using the ```+``` or ```+=``` operators.\n",
    "* ```.extend()```\n",
    "    * The ```.extend()``` method is used to add elements from iterable data types to the end of a python list. When using this method to add a list to a list, the elements from the second list will be added to the end of the first list. When using this method to add a string to a list, each char will be broken up first, then each char will be added to the end of the list. The general syntax of this method is ```list.extend(iterable)```.\n",
    "* ```+ or +=```\n",
    "    * These two operators work very similarly to the ```.extend()``` method. The proper syntax when using these operators to add to lists is ```list = list + iterable``` or ```list += iterable```.\n",
    "* ```.append()```\n",
    "    * The ```.append()``` method is used to add iterable objects in their entirety to the end of a python list. When using this method to add a list to a list, the resulting list will be a list of n-dimensions. When you have a list of n-dimensions, you must use an n-dimensional number of square brackets (2D list example: ```LIST[index0][index1]```) to access the elements in the nested lists. You should use this method when you wish to add the entirety of a string to a list rather than just the characters from the string."
   ]
  },
  {
   "cell_type": "markdown",
   "metadata": {},
   "source": [
    "##### Demonstrating ```.extend()```"
   ]
  },
  {
   "cell_type": "code",
   "execution_count": 21,
   "metadata": {},
   "outputs": [
    {
     "name": "stdout",
     "output_type": "stream",
     "text": [
      "[1, 2, 3, 4, 5, 6]\n",
      "[1, 2, 3, 'H', 'e', 'l', 'l', 'o']\n"
     ]
    }
   ],
   "source": [
    "ls1 = [1,2,3]\n",
    "ls2 = [4,5,6]\n",
    "st = \"Hello\"\n",
    "\n",
    "ls1.extend(ls2)\n",
    "print(ls1) #Prints [1,2,3,4,5,6]\n",
    "\n",
    "ls1 = [1,2,3] #Reset list 1\n",
    "\n",
    "ls1.extend(st)\n",
    "print(ls1) #Prints [1, 2, 3, 'H', 'e', 'l', 'l', 'o']"
   ]
  },
  {
   "cell_type": "markdown",
   "metadata": {},
   "source": [
    "##### Demonstrating ```+ and +=```"
   ]
  },
  {
   "cell_type": "code",
   "execution_count": 22,
   "metadata": {},
   "outputs": [
    {
     "name": "stdout",
     "output_type": "stream",
     "text": [
      "[1, 2, 3, 4, 5, 6]\n",
      "[1, 2, 3, 'H', 'e', 'l', 'l', 'o']\n"
     ]
    }
   ],
   "source": [
    "ls1 = [1,2,3]\n",
    "ls2 = [4,5,6]\n",
    "st = \"Hello\"\n",
    "\n",
    "ls1 += ls2\n",
    "print(ls1) #Prints [1,2,3,4,5,6]\n",
    "\n",
    "ls1 = [1,2,3] #Reset list 1\n",
    "ls1 += st\n",
    "print(ls1) #Prints [1, 2, 3, 'H', 'e', 'l', 'l', 'o']"
   ]
  },
  {
   "cell_type": "markdown",
   "metadata": {},
   "source": [
    "##### Demonstrating ```.append()```"
   ]
  },
  {
   "cell_type": "code",
   "execution_count": 23,
   "metadata": {},
   "outputs": [
    {
     "name": "stdout",
     "output_type": "stream",
     "text": [
      "[1, 2, 3, [4, 5, 6]]\n",
      "[1, 2, 3, 'Hello']\n"
     ]
    }
   ],
   "source": [
    "ls1 = [1,2,3]\n",
    "ls2 = [4,5,6]\n",
    "st = \"Hello\"\n",
    "\n",
    "ls1.append(ls2)\n",
    "print(ls1) #Prints [1, 2, 3, [4, 5, 6]]\n",
    "\n",
    "ls1 = [1,2,3] #Reset list 1\n",
    "\n",
    "ls1.append(st)\n",
    "print(ls1) #Prints [1, 2, 3, 'Hello']"
   ]
  },
  {
   "cell_type": "markdown",
   "metadata": {},
   "source": [
    "## Files\n",
    "\n",
    "There are a few ways to read a file in Python, but one of the best ways to do so is to use a ```with``` statement. When using a ```with``` statement, the file will be opened in the function header and the file will be closed by the last line of the ```with``` statement. The general syntax for using a ```with``` statement to read a file is ```with open(\"file_name.extension\",\"r\") as VARIABLE```.\n",
    "\n",
    "Similar to the iterable nature of lists and strings, file objects are also an iterable data type in Python. This means that a ```for``` loop can also be used to iterate through each element of file object. In the case of a file object, each element is delineated by a newline character ```\\n``` by default."
   ]
  },
  {
   "cell_type": "code",
   "execution_count": 24,
   "metadata": {},
   "outputs": [
    {
     "name": "stdout",
     "output_type": "stream",
     "text": [
      "Dice Roll Simulator!\n",
      "Roll 1: Side 4\n",
      "\n",
      "Roll 2: Side 4\n",
      "\n",
      "Roll 3: Side 3\n",
      "\n",
      "Roll 4: Side 2\n",
      "\n",
      "Roll 5: Side 1\n",
      "\n",
      "Roll 6: Side 2\n",
      "\n",
      "Roll 7: Side 3\n",
      "\n",
      "Roll 8: Side 1\n",
      "\n",
      "Roll 9: Side 4\n",
      "\n",
      "Roll 10: Side 4\n",
      "\n",
      "Total: 28\n"
     ]
    }
   ],
   "source": [
    "import random\n",
    "\n",
    "#Create file with 10 random numbers separated by a new line\n",
    "with open(\"./randomfile.txt\", \"w\", encoding = \"utf-8\") as f:\n",
    "    for i in range(10):\n",
    "        f.write(f\"{random.randint(0,6)}\")\n",
    "        if i < 9:\n",
    "            f.write(\"\\n\")\n",
    "\n",
    "print(\"Dice Roll Simulator!\")\n",
    "\n",
    "#Read created file, calculating total\n",
    "with open(\"./randomfile.txt\", \"r\", encoding = \"utf-8\") as f:\n",
    "    i = 0\n",
    "    total = 0\n",
    "    for line in f:\n",
    "        i += 1\n",
    "        total += int(line)\n",
    "        print(f\"Roll {i}: Side {line}\")\n",
    "    print()\n",
    "    print(f\"Total: {total}\")"
   ]
  }
 ],
 "metadata": {
  "kernelspec": {
   "display_name": "Python 3",
   "language": "python",
   "name": "python3"
  },
  "language_info": {
   "codemirror_mode": {
    "name": "ipython",
    "version": 3
   },
   "file_extension": ".py",
   "mimetype": "text/x-python",
   "name": "python",
   "nbconvert_exporter": "python",
   "pygments_lexer": "ipython3",
   "version": "3.13.1"
  }
 },
 "nbformat": 4,
 "nbformat_minor": 2
}
